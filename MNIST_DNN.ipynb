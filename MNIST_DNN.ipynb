{
 "cells": [
  {
   "cell_type": "code",
   "execution_count": 1,
   "metadata": {},
   "outputs": [
    {
     "name": "stderr",
     "output_type": "stream",
     "text": [
      "/opt/conda/lib/python3.6/site-packages/h5py/__init__.py:36: FutureWarning: Conversion of the second argument of issubdtype from `float` to `np.floating` is deprecated. In future, it will be treated as `np.float64 == np.dtype(float).type`.\n",
      "  from ._conv import register_converters as _register_converters\n"
     ]
    }
   ],
   "source": [
    "import tensorflow as tf\n",
    "from sklearn.model_selection import ShuffleSplit\n",
    "from tensorflow.examples.tutorials.mnist import input_data\n",
    "import matplotlib\n",
    "import matplotlib.pyplot as plt\n",
    "import seaborn as sns\n",
    "sns.set()\n",
    "matplotlib.rcParams['figure.dpi'] = 120\n",
    "import pandas as pd\n",
    "import numpy as np"
   ]
  },
  {
   "cell_type": "code",
   "execution_count": 2,
   "metadata": {},
   "outputs": [
    {
     "name": "stdout",
     "output_type": "stream",
     "text": [
      "Extracting ./MNIST_data/train-images-idx3-ubyte.gz\n",
      "Extracting ./MNIST_data/train-labels-idx1-ubyte.gz\n",
      "Extracting ./MNIST_data/t10k-images-idx3-ubyte.gz\n",
      "Extracting ./MNIST_data/t10k-labels-idx1-ubyte.gz\n"
     ]
    }
   ],
   "source": [
    "mnist = input_data.read_data_sets(\"./MNIST_data/\", one_hot=True)"
   ]
  },
  {
   "cell_type": "markdown",
   "metadata": {},
   "source": [
    "#### Define DNN"
   ]
  },
  {
   "cell_type": "code",
   "execution_count": 3,
   "metadata": {},
   "outputs": [],
   "source": [
    "# Parameters\n",
    "learning_rate = 0.1\n",
    "alpha = 0.0001\n",
    "dropout = 0.2\n",
    "momentum = 0.99\n",
    "num_steps = 5000\n",
    "batch_size = 128\n",
    "display_step = 100\n",
    "\n",
    "# Network Parameters\n",
    "n_hidden_1 = 128\n",
    "n_hidden_2 = 128\n",
    "num_input = 28*28\n",
    "num_classes = 10"
   ]
  },
  {
   "cell_type": "code",
   "execution_count": 4,
   "metadata": {},
   "outputs": [],
   "source": [
    "# tf Graph input\n",
    "X = tf.placeholder(tf.float64, [None, num_input])\n",
    "Y = tf.placeholder(tf.float64, [None, num_classes])\n",
    "training = tf.placeholder(tf.bool, name=\"training\")"
   ]
  },
  {
   "cell_type": "code",
   "execution_count": 5,
   "metadata": {},
   "outputs": [],
   "source": [
    "# Create model\n",
    "def neural_net(x):\n",
    "    drop1 = tf.layers.dropout(x, dropout, training=True)\n",
    "    layer1 = tf.layers.dense(drop1,\n",
    "                             n_hidden_1,\n",
    "                             activation=None,\n",
    "                             use_bias=True,\n",
    "                             kernel_initializer=tf.truncated_normal_initializer(stddev=num_input**-0.5),\n",
    "                             kernel_regularizer=tf.contrib.layers.l1_regularizer(alpha))\n",
    "    bn1 = tf.layers.batch_normalization(layer1, training=True, momentum=momentum)\n",
    "    act1 = tf.nn.sigmoid(bn1)\n",
    "    drop2 = tf.layers.dropout(act1, dropout, training=True)\n",
    "    layer2 = tf.layers.dense(drop2,\n",
    "                             n_hidden_2,\n",
    "                             activation=None,\n",
    "                             use_bias=True,\n",
    "                             kernel_initializer=tf.truncated_normal_initializer(stddev=n_hidden_1**-0.5),\n",
    "                             kernel_regularizer=tf.contrib.layers.l1_regularizer(alpha))\n",
    "    bn2 = tf.layers.batch_normalization(layer2, training=True, momentum=momentum)\n",
    "    act2 = tf.nn.sigmoid(bn2)\n",
    "    drop3 = tf.layers.dropout(act2, dropout, training=True)\n",
    "    out_layer = tf.layers.dense(drop3,\n",
    "                                num_classes,\n",
    "                                activation=tf.nn.sigmoid,\n",
    "                                use_bias=True,\n",
    "                                kernel_initializer=tf.truncated_normal_initializer(stddev=n_hidden_2**-0.5),\n",
    "                                kernel_regularizer=tf.contrib.layers.l1_regularizer(alpha))\n",
    "    return out_layer\n",
    "\n",
    "# Construct model\n",
    "logits = neural_net(X)\n",
    "prediction = tf.nn.softmax(logits)\n",
    "\n",
    "# Define loss and optimizer\n",
    "loss_op = tf.reduce_mean(tf.nn.softmax_cross_entropy_with_logits_v2(logits=logits, labels=Y))\n",
    "optimizer = tf.train.AdamOptimizer()\n",
    "train_op = optimizer.minimize(loss_op)\n",
    "\n",
    "# Evaluate model\n",
    "accuracy = tf.reduce_mean(tf.cast(tf.equal(tf.argmax(prediction, 1), tf.argmax(Y, 1)), tf.float32))"
   ]
  },
  {
   "cell_type": "markdown",
   "metadata": {},
   "source": [
    "#### Training"
   ]
  },
  {
   "cell_type": "code",
   "execution_count": 6,
   "metadata": {
    "scrolled": true
   },
   "outputs": [
    {
     "name": "stdout",
     "output_type": "stream",
     "text": [
      "Step 1 Train loss: 2.29313, Train acc: 0.14933\n",
      "Step 1 Test loss: 2.29470, Test acc: 0.14140\n",
      "Step 100 Train loss: 1.91510, Train acc: 0.78298\n",
      "Step 100 Test loss: 1.91415, Test acc: 0.79500\n",
      "Step 200 Train loss: 1.79481, Train acc: 0.82998\n",
      "Step 200 Test loss: 1.79101, Test acc: 0.83540\n",
      "Step 300 Train loss: 1.73108, Train acc: 0.84284\n",
      "Step 300 Test loss: 1.72816, Test acc: 0.85180\n",
      "Step 400 Train loss: 1.69418, Train acc: 0.84813\n",
      "Step 400 Test loss: 1.69190, Test acc: 0.85230\n",
      "Step 500 Train loss: 1.66686, Train acc: 0.85876\n",
      "Step 500 Test loss: 1.66472, Test acc: 0.86280\n",
      "Step 600 Train loss: 1.64855, Train acc: 0.86507\n",
      "Step 600 Test loss: 1.64592, Test acc: 0.86750\n",
      "Step 700 Train loss: 1.63515, Train acc: 0.86736\n",
      "Step 700 Test loss: 1.63072, Test acc: 0.87630\n",
      "Step 800 Train loss: 1.62409, Train acc: 0.87082\n",
      "Step 800 Test loss: 1.62264, Test acc: 0.87590\n",
      "Step 900 Train loss: 1.61275, Train acc: 0.87540\n",
      "Step 900 Test loss: 1.61056, Test acc: 0.88140\n",
      "Step 1000 Train loss: 1.60584, Train acc: 0.87925\n",
      "Step 1000 Test loss: 1.60188, Test acc: 0.88600\n",
      "Step 1100 Train loss: 1.59842, Train acc: 0.88325\n",
      "Step 1100 Test loss: 1.59941, Test acc: 0.88130\n",
      "Step 1200 Train loss: 1.59151, Train acc: 0.88800\n",
      "Step 1200 Test loss: 1.59008, Test acc: 0.88790\n",
      "Step 1300 Train loss: 1.58644, Train acc: 0.89051\n",
      "Step 1300 Test loss: 1.58540, Test acc: 0.89270\n",
      "Step 1400 Train loss: 1.58148, Train acc: 0.89135\n",
      "Step 1400 Test loss: 1.58228, Test acc: 0.89040\n",
      "Step 1500 Train loss: 1.57692, Train acc: 0.89585\n",
      "Step 1500 Test loss: 1.57622, Test acc: 0.89680\n",
      "Step 1600 Train loss: 1.57130, Train acc: 0.90036\n",
      "Step 1600 Test loss: 1.56980, Test acc: 0.90150\n",
      "Step 1700 Train loss: 1.56722, Train acc: 0.90335\n",
      "Step 1700 Test loss: 1.56714, Test acc: 0.89990\n",
      "Step 1800 Train loss: 1.56388, Train acc: 0.90456\n",
      "Step 1800 Test loss: 1.56402, Test acc: 0.90690\n",
      "Step 1900 Train loss: 1.55935, Train acc: 0.90922\n",
      "Step 1900 Test loss: 1.55861, Test acc: 0.91150\n",
      "Step 2000 Train loss: 1.55604, Train acc: 0.91109\n",
      "Step 2000 Test loss: 1.55510, Test acc: 0.91170\n",
      "Step 2100 Train loss: 1.55228, Train acc: 0.91295\n",
      "Step 2100 Test loss: 1.55327, Test acc: 0.91290\n",
      "Step 2200 Train loss: 1.55067, Train acc: 0.91475\n",
      "Step 2200 Test loss: 1.55161, Test acc: 0.91620\n",
      "Step 2300 Train loss: 1.54797, Train acc: 0.91696\n",
      "Step 2300 Test loss: 1.54907, Test acc: 0.91650\n",
      "Step 2400 Train loss: 1.54448, Train acc: 0.92011\n",
      "Step 2400 Test loss: 1.54695, Test acc: 0.91570\n",
      "Step 2500 Train loss: 1.54209, Train acc: 0.92124\n",
      "Step 2500 Test loss: 1.54237, Test acc: 0.91980\n",
      "Step 2600 Train loss: 1.54007, Train acc: 0.92305\n",
      "Step 2600 Test loss: 1.54020, Test acc: 0.92470\n",
      "Step 2700 Train loss: 1.53816, Train acc: 0.92558\n",
      "Step 2700 Test loss: 1.54022, Test acc: 0.92300\n",
      "Step 2800 Train loss: 1.53596, Train acc: 0.92738\n",
      "Step 2800 Test loss: 1.53735, Test acc: 0.92590\n",
      "Step 2900 Train loss: 1.53386, Train acc: 0.92962\n",
      "Step 2900 Test loss: 1.53597, Test acc: 0.92720\n",
      "Step 3000 Train loss: 1.53247, Train acc: 0.92825\n",
      "Step 3000 Test loss: 1.53419, Test acc: 0.92840\n",
      "Step 3100 Train loss: 1.53186, Train acc: 0.93055\n",
      "Step 3100 Test loss: 1.53357, Test acc: 0.92920\n",
      "Step 3200 Train loss: 1.52961, Train acc: 0.93195\n",
      "Step 3200 Test loss: 1.53119, Test acc: 0.93010\n",
      "Step 3300 Train loss: 1.52896, Train acc: 0.93205\n",
      "Step 3300 Test loss: 1.53045, Test acc: 0.93060\n",
      "Step 3400 Train loss: 1.52677, Train acc: 0.93440\n",
      "Step 3400 Test loss: 1.52751, Test acc: 0.93020\n",
      "Step 3500 Train loss: 1.52640, Train acc: 0.93411\n",
      "Step 3500 Test loss: 1.52742, Test acc: 0.93280\n",
      "Step 3600 Train loss: 1.52432, Train acc: 0.93567\n",
      "Step 3600 Test loss: 1.52739, Test acc: 0.93290\n",
      "Step 3700 Train loss: 1.52299, Train acc: 0.93804\n",
      "Step 3700 Test loss: 1.52411, Test acc: 0.93460\n",
      "Step 3800 Train loss: 1.52137, Train acc: 0.93867\n",
      "Step 3800 Test loss: 1.52404, Test acc: 0.93830\n",
      "Step 3900 Train loss: 1.52129, Train acc: 0.93882\n",
      "Step 3900 Test loss: 1.52243, Test acc: 0.93820\n",
      "Step 4000 Train loss: 1.52029, Train acc: 0.93916\n",
      "Step 4000 Test loss: 1.52270, Test acc: 0.93560\n",
      "Step 4100 Train loss: 1.51756, Train acc: 0.94220\n",
      "Step 4100 Test loss: 1.52052, Test acc: 0.93960\n",
      "Step 4200 Train loss: 1.51864, Train acc: 0.94205\n",
      "Step 4200 Test loss: 1.52145, Test acc: 0.93940\n",
      "Step 4300 Train loss: 1.51682, Train acc: 0.94211\n",
      "Step 4300 Test loss: 1.51937, Test acc: 0.94220\n",
      "Step 4400 Train loss: 1.51629, Train acc: 0.94325\n",
      "Step 4400 Test loss: 1.51965, Test acc: 0.94010\n",
      "Step 4500 Train loss: 1.51552, Train acc: 0.94405\n",
      "Step 4500 Test loss: 1.51766, Test acc: 0.93980\n",
      "Step 4600 Train loss: 1.51501, Train acc: 0.94509\n",
      "Step 4600 Test loss: 1.51919, Test acc: 0.93960\n",
      "Step 4700 Train loss: 1.51297, Train acc: 0.94744\n",
      "Step 4700 Test loss: 1.51803, Test acc: 0.94120\n",
      "Step 4800 Train loss: 1.51366, Train acc: 0.94618\n",
      "Step 4800 Test loss: 1.51588, Test acc: 0.94420\n",
      "Step 4900 Train loss: 1.51259, Train acc: 0.94711\n",
      "Step 4900 Test loss: 1.51366, Test acc: 0.94700\n",
      "Step 5000 Train loss: 1.51111, Train acc: 0.94856\n",
      "Step 5000 Test loss: 1.51563, Test acc: 0.94330\n",
      "Optimization Finished!\n"
     ]
    }
   ],
   "source": [
    "init = tf.global_variables_initializer()\n",
    "\n",
    "with tf.Session() as sess:\n",
    "    metrics = {\n",
    "        'train_loss':[],\n",
    "        'train_acc':[],\n",
    "        'test_loss':[],\n",
    "        'test_acc':[]\n",
    "    }\n",
    "    # Run the initializer\n",
    "    sess.run(init)\n",
    "\n",
    "    for step in range(1, num_steps+1):\n",
    "        batch_x, batch_y = mnist.train.next_batch(batch_size)\n",
    "        \n",
    "        # Run optimization op (backprop)\n",
    "        sess.run(train_op, feed_dict={X: batch_x, Y: batch_y, training: True})\n",
    "        if step % display_step == 0 or step == 1:\n",
    "            loss, acc = sess.run([loss_op, accuracy], feed_dict={X: mnist.train.images, Y: mnist.train.labels, training: False})\n",
    "            print(\"Step \" + str(step) + \" Train loss: %0.5f, Train acc: %0.5f\" % (loss, acc))\n",
    "            metrics['train_loss'].append(loss)\n",
    "            metrics['train_acc'].append(acc)\n",
    "            loss, acc = sess.run([loss_op, accuracy], feed_dict={X: mnist.test.images, Y: mnist.test.labels, training: False})\n",
    "            print(\"Step \" + str(step) + \" Test loss: %0.5f, Test acc: %0.5f\" % (loss, acc))\n",
    "            metrics['test_loss'].append(loss)\n",
    "            metrics['test_acc'].append(acc)\n",
    "\n",
    "    print(\"Optimization Finished!\")"
   ]
  },
  {
   "cell_type": "code",
   "execution_count": 7,
   "metadata": {
    "scrolled": true
   },
   "outputs": [
    {
     "data": {
      "text/plain": [
       "Text(0,0.5,'Loss')"
      ]
     },
     "execution_count": 7,
     "metadata": {},
     "output_type": "execute_result"
    },
    {
     "data": {
      "image/png": "[encoded data removed]",
      "text/plain": [
       "<Figure size 432x288 with 1 Axes>"
      ]
     },
     "metadata": {},
     "output_type": "display_data"
    }
   ],
   "source": [
    "snc = sns.color_palette()\n",
    "\n",
    "plt.plot(metrics['test_loss'], color=snc[0])\n",
    "plt.plot(metrics['train_loss'], color=snc[0], ls='--')\n",
    "plt.ylim(min(metrics['test_loss']), max(metrics['test_loss']))\n",
    "plt.legend(['DNN(test)', 'DNN(train)'])\n",
    "plt.ylabel('Loss')"
   ]
  }
 ],
 "metadata": {
  "kernelspec": {
   "display_name": "Python 3",
   "language": "python",
   "name": "python3"
  },
  "language_info": {
   "codemirror_mode": {
    "name": "ipython",
    "version": 3
   },
   "file_extension": ".py",
   "mimetype": "text/x-python",
   "name": "python",
   "nbconvert_exporter": "python",
   "pygments_lexer": "ipython3",
   "version": "3.6.3"
  }
 },
 "nbformat": 4,
 "nbformat_minor": 2
}
