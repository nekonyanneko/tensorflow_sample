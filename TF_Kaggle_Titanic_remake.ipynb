{
 "cells": [
  {
   "cell_type": "code",
   "execution_count": 1,
   "metadata": {},
   "outputs": [
    {
     "name": "stderr",
     "output_type": "stream",
     "text": [
      "/opt/conda/lib/python3.6/site-packages/h5py/__init__.py:36: FutureWarning: Conversion of the second argument of issubdtype from `float` to `np.floating` is deprecated. In future, it will be treated as `np.float64 == np.dtype(float).type`.\n",
      "  from ._conv import register_converters as _register_converters\n",
      "/opt/conda/lib/python3.6/site-packages/sklearn/cross_validation.py:41: DeprecationWarning: This module was deprecated in version 0.18 in favor of the model_selection module into which all the refactored classes and functions are moved. Also note that the interface of the new CV iterators are different from that of this module. This module will be removed in 0.20.\n",
      "  \"This module will be removed in 0.20.\", DeprecationWarning)\n"
     ]
    }
   ],
   "source": [
    "import random\n",
    "import numpy as np\n",
    "import pandas as pd\n",
    "import matplotlib\n",
    "import matplotlib.pyplot as plt\n",
    "import seaborn as sns\n",
    "sns.set()\n",
    "matplotlib.rcParams['figure.dpi'] = 144\n",
    "import tensorflow as tf\n",
    "from sklearn.cross_validation import train_test_split\n",
    "from sklearn.feature_extraction import DictVectorizer\n",
    "from sklearn import preprocessing\n",
    "from sklearn.model_selection import train_test_split"
   ]
  },
  {
   "cell_type": "code",
   "execution_count": 2,
   "metadata": {},
   "outputs": [],
   "source": [
    "# Parameters\n",
    "learning_rate = 0.01\n",
    "batch_size = 100\n",
    "tbatch_size = 50\n",
    "display_step = 100\n",
    "train_size = (1 - 0.8)\n",
    "step_size = 3000\n",
    "alpha = 0.0001\n",
    "momentum = 0.99\n",
    "\n",
    "# Network Parameters\n",
    "n_hidden_1 = 32\n",
    "n_hidden_2 = 32"
   ]
  },
  {
   "cell_type": "markdown",
   "metadata": {},
   "source": [
    "#### data load and preprocessing"
   ]
  },
  {
   "cell_type": "code",
   "execution_count": 3,
   "metadata": {},
   "outputs": [],
   "source": [
    "df = pd.read_csv('./data/train.csv')\n",
    "test_df = pd.read_csv('./data/test.csv')"
   ]
  },
  {
   "cell_type": "code",
   "execution_count": 4,
   "metadata": {},
   "outputs": [],
   "source": [
    "sex_dum = pd.get_dummies(df['Sex'])\n",
    "df_proc = pd.concat((df,sex_dum),axis=1)\n",
    "df_proc = df_proc.drop('Sex',axis=1)\n",
    "df_proc = df_proc.drop('female',axis=1)\n",
    "\n",
    "sex_dum = pd.get_dummies(test_df['Sex'])\n",
    "test_df_proc = pd.concat((test_df,sex_dum),axis=1)\n",
    "test_df_proc = test_df_proc.drop('Sex',axis=1)\n",
    "test_df_proc = test_df_proc.drop('female',axis=1)"
   ]
  },
  {
   "cell_type": "code",
   "execution_count": 5,
   "metadata": {},
   "outputs": [],
   "source": [
    "emb_dum = pd.get_dummies(df['Embarked'])\n",
    "df_proc = pd.concat((df_proc,emb_dum),axis=1)\n",
    "df_proc = df_proc.drop('Embarked',axis=1)\n",
    "df_proc = df_proc.drop('S',axis=1)\n",
    "\n",
    "emb_dum = pd.get_dummies(test_df['Embarked'])\n",
    "test_df_proc = pd.concat((test_df_proc,emb_dum),axis=1)\n",
    "test_df_proc = test_df_proc.drop('Embarked',axis=1)\n",
    "test_df_proc = test_df_proc.drop('S',axis=1)"
   ]
  },
  {
   "cell_type": "code",
   "execution_count": 6,
   "metadata": {},
   "outputs": [],
   "source": [
    "def name_classifier(name_df):    \n",
    "    name_class_df = pd.DataFrame(columns={'miss','mrs','master','mr'})\n",
    "    \n",
    "    for name in name_df:        \n",
    "        if 'Miss' in name:\n",
    "            df = pd.DataFrame([[1,0,0,0]],columns={'miss','mrs','master','mr'})\n",
    "        elif 'Mrs' in name:\n",
    "            df = pd.DataFrame([[0,1,0,0]],columns={'miss','mrs','master','mr'})\n",
    "        elif 'Master' in name:\n",
    "            df = pd.DataFrame([[0,0,1,0]],columns={'miss','mrs','master','mr'})\n",
    "        elif 'Mr' in name:\n",
    "            df = pd.DataFrame([[0,0,0,1]],columns={'miss','mrs','master','mr'})\n",
    "        else :\n",
    "            df = pd.DataFrame([[0,0,0,0]],columns={'miss','mrs','master','mr'})\n",
    "        name_class_df = name_class_df.append(df,ignore_index=True)        \n",
    "    return name_class_df"
   ]
  },
  {
   "cell_type": "code",
   "execution_count": 7,
   "metadata": {},
   "outputs": [],
   "source": [
    "nam_dum = name_classifier(df.Name)\n",
    "df_proc = pd.concat((df_proc,nam_dum),axis=1)\n",
    "df_proc = df_proc.drop('Name',axis=1)\n",
    "\n",
    "nam_dum = name_classifier(test_df.Name)\n",
    "test_df_proc = pd.concat((test_df_proc,nam_dum),axis=1)\n",
    "test_df_proc = test_df_proc.drop('Name',axis=1)"
   ]
  },
  {
   "cell_type": "code",
   "execution_count": 8,
   "metadata": {},
   "outputs": [
    {
     "data": {
      "text/plain": [
       "PassengerId      0\n",
       "Survived         0\n",
       "Pclass           0\n",
       "Age            177\n",
       "SibSp            0\n",
       "Parch            0\n",
       "Ticket           0\n",
       "Fare             0\n",
       "Cabin          687\n",
       "male             0\n",
       "C                0\n",
       "Q                0\n",
       "master           0\n",
       "miss             0\n",
       "mr               0\n",
       "mrs              0\n",
       "dtype: int64"
      ]
     },
     "execution_count": 8,
     "metadata": {},
     "output_type": "execute_result"
    }
   ],
   "source": [
    "df_proc.isnull().sum()"
   ]
  },
  {
   "cell_type": "code",
   "execution_count": 9,
   "metadata": {},
   "outputs": [],
   "source": [
    "labelEncoder = preprocessing.LabelEncoder()\n",
    "df_proc['Cabin'] = labelEncoder.fit_transform(df_proc['Cabin'].astype(str))\n",
    "test_df_proc['Cabin'] = labelEncoder.fit_transform(test_df_proc['Cabin'].astype(str))"
   ]
  },
  {
   "cell_type": "code",
   "execution_count": 10,
   "metadata": {},
   "outputs": [],
   "source": [
    "x_np = np.array(df_proc.drop(['Survived', 'Ticket'], axis=1).fillna(df.mean()))"
   ]
  },
  {
   "cell_type": "code",
   "execution_count": 11,
   "metadata": {},
   "outputs": [],
   "source": [
    "d = df_proc[['Survived']].to_dict('record')\n",
    "vectorizer = DictVectorizer(sparse=False)\n",
    "y_np = vectorizer.fit_transform(d)\n",
    "\n",
    "label = np.zeros((y_np.shape[0], y_np.max().astype(int) + 1))\n",
    "for index, flag in enumerate(y_np):\n",
    "    label[index][flag.astype(int)] = 1"
   ]
  },
  {
   "cell_type": "code",
   "execution_count": 12,
   "metadata": {},
   "outputs": [],
   "source": [
    "train_x, valid_x, train_y, valid_y = train_test_split(x_np, label, test_size=train_size)\n",
    "\n",
    "num_input = train_x.shape[1]\n",
    "num_classes = 2"
   ]
  },
  {
   "cell_type": "markdown",
   "metadata": {},
   "source": [
    "#### Create TF model"
   ]
  },
  {
   "cell_type": "code",
   "execution_count": 13,
   "metadata": {},
   "outputs": [],
   "source": [
    "# tf Graph input\n",
    "X = tf.placeholder(tf.float64, [None, num_input])\n",
    "Y = tf.placeholder(tf.float64, [None, num_classes])\n",
    "keep_prob = tf.placeholder(tf.float64)"
   ]
  },
  {
   "cell_type": "code",
   "execution_count": 14,
   "metadata": {},
   "outputs": [],
   "source": [
    "# Create model\n",
    "def multilayer_perceptron(x):\n",
    "    drop1 = tf.layers.dropout(x, keep_prob, training=True)\n",
    "    layer1 = tf.layers.dense(drop1,\n",
    "                             n_hidden_1,\n",
    "                             activation=None,\n",
    "                             use_bias=True,\n",
    "                             kernel_initializer=tf.truncated_normal_initializer(stddev=num_input**-0.5),\n",
    "                             kernel_regularizer=tf.contrib.layers.l2_regularizer(alpha))\n",
    "    bn1 = tf.layers.batch_normalization(layer1, training=True, momentum=momentum)\n",
    "    act1 = tf.nn.relu(bn1)\n",
    "    drop2 = tf.layers.dropout(act1, keep_prob, training=True)\n",
    "    layer2 = tf.layers.dense(drop2,\n",
    "                             n_hidden_2,\n",
    "                             activation=None,\n",
    "                             use_bias=True,\n",
    "                             kernel_initializer=tf.truncated_normal_initializer(stddev=n_hidden_1**-0.5),\n",
    "                             kernel_regularizer=tf.contrib.layers.l2_regularizer(alpha))\n",
    "    bn2 = tf.layers.batch_normalization(layer2, training=True, momentum=momentum)\n",
    "    act2 = tf.nn.relu(bn2)\n",
    "    drop3 = tf.layers.dropout(act2, keep_prob, training=True)\n",
    "    out_layer = tf.layers.dense(drop3,\n",
    "                                num_classes,\n",
    "                                activation=None,\n",
    "                                use_bias=True,\n",
    "                                kernel_initializer=tf.truncated_normal_initializer(stddev=n_hidden_2**-0.5),\n",
    "                                kernel_regularizer=tf.contrib.layers.l2_regularizer(alpha))\n",
    "    return out_layer"
   ]
  },
  {
   "cell_type": "code",
   "execution_count": 15,
   "metadata": {},
   "outputs": [],
   "source": [
    "# Construct model\n",
    "logits = multilayer_perceptron(X)\n",
    "prediction = tf.nn.softmax(logits)\n",
    "\n",
    "# Define loss and optimizer\n",
    "loss_op = tf.reduce_mean(tf.nn.softmax_cross_entropy_with_logits_v2(logits=logits, labels=Y))\n",
    "optimizer = tf.train.AdamOptimizer()\n",
    "train_op = optimizer.minimize(loss_op)\n",
    "\n",
    "# Evaluate model\n",
    "accuracy = tf.reduce_mean(tf.cast(tf.equal(tf.argmax(prediction, 1), tf.argmax(Y, 1)), tf.float64))"
   ]
  },
  {
   "cell_type": "markdown",
   "metadata": {},
   "source": [
    "#### Trainig"
   ]
  },
  {
   "cell_type": "code",
   "execution_count": 16,
   "metadata": {
    "scrolled": true
   },
   "outputs": [
    {
     "name": "stdout",
     "output_type": "stream",
     "text": [
      "Step 0 Train loss: 0.76766, Train acc: 0.49000\n",
      "Step 0 Test loss: 0.78897, Test acc: 0.42000\n",
      "Step 1 Train loss: 0.74088, Train acc: 0.49000\n",
      "Step 1 Test loss: 0.85710, Test acc: 0.28000\n",
      "Step 100 Train loss: 0.59089, Train acc: 0.72000\n",
      "Step 100 Test loss: 0.71347, Test acc: 0.70000\n",
      "Step 200 Train loss: 0.59241, Train acc: 0.71000\n",
      "Step 200 Test loss: 0.59871, Test acc: 0.72000\n",
      "Step 300 Train loss: 0.60352, Train acc: 0.67000\n",
      "Step 300 Test loss: 0.59537, Test acc: 0.84000\n",
      "Step 400 Train loss: 0.59235, Train acc: 0.69000\n",
      "Step 400 Test loss: 0.54136, Test acc: 0.78000\n",
      "Step 500 Train loss: 0.48783, Train acc: 0.77000\n",
      "Step 500 Test loss: 0.54247, Test acc: 0.72000\n",
      "Step 600 Train loss: 0.41416, Train acc: 0.85000\n",
      "Step 600 Test loss: 0.41103, Test acc: 0.82000\n",
      "Step 700 Train loss: 0.34642, Train acc: 0.90000\n",
      "Step 700 Test loss: 0.41936, Test acc: 0.82000\n",
      "Step 800 Train loss: 0.37822, Train acc: 0.83000\n",
      "Step 800 Test loss: 0.27242, Test acc: 0.94000\n",
      "Step 900 Train loss: 0.34773, Train acc: 0.88000\n",
      "Step 900 Test loss: 0.34594, Test acc: 0.84000\n",
      "Step 1000 Train loss: 0.21976, Train acc: 0.94000\n",
      "Step 1000 Test loss: 0.39230, Test acc: 0.76000\n",
      "Step 1100 Train loss: 0.31853, Train acc: 0.90000\n",
      "Step 1100 Test loss: 0.55342, Test acc: 0.74000\n",
      "Step 1200 Train loss: 0.38353, Train acc: 0.83000\n",
      "Step 1200 Test loss: 0.41064, Test acc: 0.80000\n",
      "Step 1300 Train loss: 0.23452, Train acc: 0.94000\n",
      "Step 1300 Test loss: 0.38364, Test acc: 0.86000\n",
      "Step 1400 Train loss: 0.37867, Train acc: 0.84000\n",
      "Step 1400 Test loss: 0.41314, Test acc: 0.82000\n",
      "Step 1500 Train loss: 0.30979, Train acc: 0.88000\n",
      "Step 1500 Test loss: 0.39795, Test acc: 0.82000\n",
      "Step 1600 Train loss: 0.28243, Train acc: 0.90000\n",
      "Step 1600 Test loss: 0.51113, Test acc: 0.82000\n",
      "Step 1700 Train loss: 0.26090, Train acc: 0.91000\n",
      "Step 1700 Test loss: 0.28017, Test acc: 0.92000\n",
      "Step 1800 Train loss: 0.28585, Train acc: 0.88000\n",
      "Step 1800 Test loss: 0.36508, Test acc: 0.88000\n",
      "Step 1900 Train loss: 0.26704, Train acc: 0.90000\n",
      "Step 1900 Test loss: 0.28204, Test acc: 0.90000\n",
      "Step 2000 Train loss: 0.27907, Train acc: 0.89000\n",
      "Step 2000 Test loss: 0.41608, Test acc: 0.90000\n",
      "Step 2100 Train loss: 0.21517, Train acc: 0.93000\n",
      "Step 2100 Test loss: 0.38815, Test acc: 0.80000\n",
      "Step 2200 Train loss: 0.35556, Train acc: 0.85000\n",
      "Step 2200 Test loss: 0.51093, Test acc: 0.82000\n",
      "Step 2300 Train loss: 0.24264, Train acc: 0.91000\n",
      "Step 2300 Test loss: 0.40368, Test acc: 0.80000\n",
      "Step 2400 Train loss: 0.25047, Train acc: 0.92000\n",
      "Step 2400 Test loss: 0.31235, Test acc: 0.86000\n",
      "Step 2500 Train loss: 0.29031, Train acc: 0.85000\n",
      "Step 2500 Test loss: 0.32072, Test acc: 0.88000\n",
      "Step 2600 Train loss: 0.20899, Train acc: 0.94000\n",
      "Step 2600 Test loss: 0.47418, Test acc: 0.76000\n",
      "Step 2700 Train loss: 0.26542, Train acc: 0.90000\n",
      "Step 2700 Test loss: 0.65071, Test acc: 0.74000\n",
      "Step 2800 Train loss: 0.23624, Train acc: 0.92000\n",
      "Step 2800 Test loss: 0.29920, Test acc: 0.90000\n",
      "Step 2900 Train loss: 0.26224, Train acc: 0.88000\n",
      "Step 2900 Test loss: 0.29995, Test acc: 0.92000\n",
      "Optimization Finished!\n",
      "Testing Accuracy: 0.8013468013468014\n"
     ]
    }
   ],
   "source": [
    "init = tf.global_variables_initializer()\n",
    "\n",
    "saver = tf.train.Saver()\n",
    "\n",
    "with tf.Session() as sess:    \n",
    "    metrics = {\n",
    "        'train_loss':[],\n",
    "        'train_acc':[],\n",
    "        'test_loss':[],\n",
    "        'test_acc':[]\n",
    "    }\n",
    "    \n",
    "    # Run the initializer\n",
    "    sess.run(init)\n",
    "\n",
    "    for step in range(step_size):\n",
    "        ind = np.random.choice(batch_size, batch_size)\n",
    "        batch_x = train_x[ind]\n",
    "        batch_y = train_y[ind]\n",
    "        ind = np.random.choice(tbatch_size, tbatch_size)\n",
    "        batch_tx = valid_x[ind]\n",
    "        batch_ty = valid_y[ind]\n",
    "        \n",
    "        # Run optimization op (backprop)\n",
    "        sess.run(train_op, feed_dict={X: batch_x, Y: batch_y, keep_prob:0.3})\n",
    "        if step % display_step == 0 or step == 1:\n",
    "            loss, acc = sess.run([loss_op, accuracy], feed_dict={X: batch_x, Y: batch_y, keep_prob: 0.0})\n",
    "            print(\"Step \" + str(step) + \" Train loss: %0.5f, Train acc: %0.5f\" % (loss, acc))\n",
    "            metrics['train_loss'].append(loss)\n",
    "            metrics['train_acc'].append(acc)\n",
    "            loss, acc = sess.run([loss_op, accuracy], feed_dict={X: batch_tx, Y: batch_ty, keep_prob: 0.0})\n",
    "            print(\"Step \" + str(step) + \" Test loss: %0.5f, Test acc: %0.5f\" % (loss, acc))\n",
    "            metrics['test_loss'].append(loss)\n",
    "            metrics['test_acc'].append(acc)\n",
    "\n",
    "    print(\"Optimization Finished!\")\n",
    "\n",
    "    # Calculate accuracy\n",
    "    print(\"Testing Accuracy:\", sess.run(accuracy, feed_dict={X: x_np, Y: label, keep_prob: 0.0}))\n",
    "    \n",
    "    saver.save(sess, \"./model/model.ckpt\")"
   ]
  },
  {
   "cell_type": "code",
   "execution_count": 17,
   "metadata": {
    "scrolled": false
   },
   "outputs": [
    {
     "data": {
      "text/plain": [
       "Text(0,0.5,'Loss')"
      ]
     },
     "execution_count": 17,
     "metadata": {},
     "output_type": "execute_result"
    },
    {
     "data": {
      "image/png": "[encoded data removed]",
      "text/plain": [
       "<Figure size 432x288 with 1 Axes>"
      ]
     },
     "metadata": {},
     "output_type": "display_data"
    }
   ],
   "source": [
    "snc = sns.color_palette()\n",
    "\n",
    "plt.plot(metrics['test_loss'], color=snc[0])\n",
    "plt.plot(metrics['train_loss'], color=snc[0], ls='--')\n",
    "plt.ylim(min(min(metrics['test_loss']), min(metrics['train_loss'])), max(max(metrics['test_loss']), max(metrics['train_loss'])))\n",
    "plt.legend(['DNN(test)', 'DNN(train)'])\n",
    "plt.ylabel('Loss')"
   ]
  },
  {
   "cell_type": "code",
   "execution_count": 18,
   "metadata": {},
   "outputs": [
    {
     "name": "stdout",
     "output_type": "stream",
     "text": [
      "INFO:tensorflow:Restoring parameters from ./model/model.ckpt\n"
     ]
    }
   ],
   "source": [
    "sess.close()\n",
    "sess=tf.InteractiveSession()\n",
    "\n",
    "init = tf.global_variables_initializer()\n",
    "sess.run(init)\n",
    "\n",
    "saver.restore(sess, \"./model/model.ckpt\")"
   ]
  },
  {
   "cell_type": "markdown",
   "metadata": {},
   "source": [
    "#### predict"
   ]
  },
  {
   "cell_type": "code",
   "execution_count": 19,
   "metadata": {},
   "outputs": [],
   "source": [
    "t = np.array(test_df_proc.drop(['Ticket'], axis=1).fillna(df.mean()))\n",
    "answer = sess.run(prediction, feed_dict={X: t, keep_prob: 0.0})"
   ]
  },
  {
   "cell_type": "code",
   "execution_count": 20,
   "metadata": {},
   "outputs": [],
   "source": [
    "predict = np.argmax(answer, axis=1)"
   ]
  },
  {
   "cell_type": "code",
   "execution_count": 21,
   "metadata": {},
   "outputs": [],
   "source": [
    "PassengerId = np.array(test_df[\"PassengerId\"]).astype(int)\n",
    "my_solution = pd.DataFrame(predict, PassengerId, columns = [\"Survived\"]) \n",
    "my_solution.to_csv(\"./data/pred.csv\", index_label = [\"PassengerId\"])"
   ]
  }
 ],
 "metadata": {
  "kernelspec": {
   "display_name": "Python 3",
   "language": "python",
   "name": "python3"
  },
  "language_info": {
   "codemirror_mode": {
    "name": "ipython",
    "version": 3
   },
   "file_extension": ".py",
   "mimetype": "text/x-python",
   "name": "python",
   "nbconvert_exporter": "python",
   "pygments_lexer": "ipython3",
   "version": "3.6.3"
  }
 },
 "nbformat": 4,
 "nbformat_minor": 2
}
